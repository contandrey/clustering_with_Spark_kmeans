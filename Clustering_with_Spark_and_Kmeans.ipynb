{
  "cells": [
    {
      "cell_type": "markdown",
      "metadata": {
        "id": "view-in-github",
        "colab_type": "text"
      },
      "source": [
        "<a href=\"https://colab.research.google.com/github/contandrey/clustering_with_Spark_kmeans/blob/main/Clustering_with_Spark_and_Kmeans.ipynb\" target=\"_parent\"><img src=\"https://colab.research.google.com/assets/colab-badge.svg\" alt=\"Open In Colab\"/></a>"
      ]
    },
    {
      "cell_type": "markdown",
      "source": [
        "A análise de dados é a ciência que estuda e interpreta os dados, a fim de possibilitar a tomada de decisão mais assertiva. Por meio da análise de dados, é possível identificar oportunidades, prever o impacto de decisões, escolher qual investimento é mais lucrativo e conhecer melhor o cliente.\n",
        "Nesse sentido, coletar e analisar dados sobre os consumidores e o público-alvo de um negócio é essencial para garantir que as necessidades dos clientes sejam atendidas.\n",
        "Logo, empregar técnicas como a segmentação de clientes auxilia na tarefa de aproximar e alinhar expectativas. Assim, é possível aumentar a competitividade do negócio e a satisfação dos consumidores.\n",
        "Neste laboratório, vamos realizar uma análise sobre um banco de dados composto por clientes de um shopping. Nessa análise, vamos compreender melhor quais são as características dos nossos consumidores. Para isso, vamos aplicar diferentes técnicas estatísticas, como correlação e regressão para identificar possíveis tendências e relacionamentos nos dados, investigar anomalias e aplicar o algoritmo K-means para dividir o conjunto de clientes em grupos com características similares. Portanto, será possível identificar as particularidades de cada um desses segmentos de clientes e poder\n",
        "oferecer produtos e serviços que atendam às necessidades de cada grupo."
      ],
      "metadata": {
        "id": "pgERrX-d9zQG"
      }
    },
    {
      "cell_type": "code",
      "source": [
        "!pip install pyspark"
      ],
      "metadata": {
        "colab": {
          "base_uri": "https://localhost:8080/"
        },
        "id": "jxZd8xW-6PUv",
        "outputId": "3e60f1cf-1d9b-48ce-8d66-9a7d4ad29122"
      },
      "execution_count": null,
      "outputs": [
        {
          "output_type": "stream",
          "name": "stdout",
          "text": [
            "Requirement already satisfied: pyspark in /usr/local/lib/python3.10/dist-packages (3.5.1)\n",
            "Requirement already satisfied: py4j==0.10.9.7 in /usr/local/lib/python3.10/dist-packages (from pyspark) (0.10.9.7)\n"
          ]
        }
      ]
    },
    {
      "cell_type": "markdown",
      "source": [
        "1) Primeiro passo - Seção Spark"
      ],
      "metadata": {
        "id": "KkWkOYVU1vkG"
      }
    },
    {
      "cell_type": "code",
      "source": [
        "from pyspark.sql import SparkSession #importa a biblioteca que cria a seção do spark"
      ],
      "metadata": {
        "id": "XHuPwU6v1vkJ"
      },
      "outputs": [],
      "execution_count": null
    },
    {
      "cell_type": "code",
      "source": [
        "#inicia a seção para a utilização do spark\n",
        "spark = SparkSession.builder.appName(\"desafio_tpd\").getOrCreate() #cria a seção caso não exista ou obtém a já criada"
      ],
      "metadata": {
        "id": "2ApZMcUe1vkK"
      },
      "outputs": [],
      "execution_count": null
    },
    {
      "cell_type": "code",
      "source": [
        "#%fs ls /"
      ],
      "metadata": {
        "id": "0W8VeBb_1vkK"
      },
      "outputs": [],
      "execution_count": null
    },
    {
      "cell_type": "code",
      "source": [
        "#diretório que contém o arquivo a ser utilizado\n",
        "diretorioDatasetDiabets=\"/content/Mall_Customers.csv\""
      ],
      "metadata": {
        "id": "GXkAmcSV1vkL"
      },
      "outputs": [],
      "execution_count": null
    },
    {
      "cell_type": "code",
      "source": [
        "#realiza a leitura do dataset\n",
        "data = spark.read.format(\"csv\").options(header=\"true\", inferschema=\"true\").load(diretorioDatasetDiabets)"
      ],
      "metadata": {
        "id": "UZJgS30t1vkL"
      },
      "outputs": [],
      "execution_count": null
    },
    {
      "cell_type": "code",
      "source": [
        " #mostrando as 5 primeiras instâncias do dataset\n",
        "data.show(5,False)"
      ],
      "metadata": {
        "id": "z-XaViVX1vkM",
        "colab": {
          "base_uri": "https://localhost:8080/"
        },
        "outputId": "4efa6f82-d540-483a-d99e-7a1acb90672e"
      },
      "outputs": [
        {
          "output_type": "stream",
          "name": "stdout",
          "text": [
            "+----------+------+---+------------------+----------------------+\n",
            "|CustomerID|Genre |Age|Annual Income (k$)|Spending Score (1-100)|\n",
            "+----------+------+---+------------------+----------------------+\n",
            "|1         |Male  |19 |15                |39                    |\n",
            "|2         |Male  |21 |15                |81                    |\n",
            "|3         |Female|20 |16                |6                     |\n",
            "|4         |Female|23 |16                |77                    |\n",
            "|5         |Female|31 |17                |40                    |\n",
            "+----------+------+---+------------------+----------------------+\n",
            "only showing top 5 rows\n",
            "\n"
          ]
        }
      ],
      "execution_count": null
    },
    {
      "cell_type": "code",
      "source": [
        "#mostra as colunas do dataset\n",
        "data.columns"
      ],
      "metadata": {
        "id": "UzF2lIY91vkM",
        "colab": {
          "base_uri": "https://localhost:8080/"
        },
        "outputId": "7ca7f612-fe43-4aa6-bc58-7035821b3391"
      },
      "outputs": [
        {
          "output_type": "execute_result",
          "data": {
            "text/plain": [
              "['CustomerID', 'Genre', 'Age', 'Annual Income (k$)', 'Spending Score (1-100)']"
            ]
          },
          "metadata": {},
          "execution_count": 25
        }
      ],
      "execution_count": null
    },
    {
      "cell_type": "code",
      "source": [
        "#mostra o esquema inferido pelas variáveis\n",
        "data.printSchema()"
      ],
      "metadata": {
        "id": "lB6dgtMQ1vkN",
        "colab": {
          "base_uri": "https://localhost:8080/"
        },
        "outputId": "8757d283-81da-4c01-8145-950f907aa1ba"
      },
      "outputs": [
        {
          "output_type": "stream",
          "name": "stdout",
          "text": [
            "root\n",
            " |-- CustomerID: integer (nullable = true)\n",
            " |-- Genre: string (nullable = true)\n",
            " |-- Age: integer (nullable = true)\n",
            " |-- Annual Income (k$): integer (nullable = true)\n",
            " |-- Spending Score (1-100): integer (nullable = true)\n",
            "\n"
          ]
        }
      ],
      "execution_count": null
    },
    {
      "cell_type": "code",
      "source": [
        "#conta a quantidade de registros\n",
        "data.count()"
      ],
      "metadata": {
        "id": "Swnbv-Hz1vkN",
        "colab": {
          "base_uri": "https://localhost:8080/"
        },
        "outputId": "bba9c1b7-3eb5-4004-99d1-b0fa770d7cf6"
      },
      "outputs": [
        {
          "output_type": "execute_result",
          "data": {
            "text/plain": [
              "200"
            ]
          },
          "metadata": {},
          "execution_count": 27
        }
      ],
      "execution_count": null
    },
    {
      "cell_type": "code",
      "source": [
        "#verificando a existência ou não de valores nulos\n",
        "from pyspark.sql.functions import isnan, when, count, col\n",
        "\n",
        "data.select([count(when(isnan(c), c)).alias(c) for c in data.columns]).show()"
      ],
      "metadata": {
        "id": "ruoQV3Nd1vkO"
      },
      "outputs": [],
      "execution_count": null
    },
    {
      "cell_type": "code",
      "source": [
        "#mostrando as estatísticas do dataset\n",
        "#MOstra a idade média dos consumidores e o desvio padrão dos salários nuais\n",
        "data.describe().show()"
      ],
      "metadata": {
        "id": "wRl6bRfM1vkP",
        "colab": {
          "base_uri": "https://localhost:8080/"
        },
        "outputId": "be240a5f-a83f-4fc7-c55e-d1f7fc885bef"
      },
      "outputs": [
        {
          "output_type": "stream",
          "name": "stdout",
          "text": [
            "+-------+------------------+------+-----------------+------------------+----------------------+\n",
            "|summary|        CustomerID| Genre|              Age|Annual Income (k$)|Spending Score (1-100)|\n",
            "+-------+------------------+------+-----------------+------------------+----------------------+\n",
            "|  count|               200|   200|              200|               200|                   200|\n",
            "|   mean|             100.5|  NULL|            38.85|             60.56|                  50.2|\n",
            "| stddev|57.879184513951124|  NULL|13.96900733155888| 26.26472116527124|    25.823521668370173|\n",
            "|    min|                 1|Female|               18|                15|                     1|\n",
            "|    max|               200|  Male|               70|               137|                    99|\n",
            "+-------+------------------+------+-----------------+------------------+----------------------+\n",
            "\n"
          ]
        }
      ],
      "execution_count": null
    },
    {
      "cell_type": "markdown",
      "source": [
        "Verificando se existem outliers (anomalias) nos dados. Para isso, será utilizado o boxplot."
      ],
      "metadata": {
        "id": "weQG-ZLY1vkP"
      }
    },
    {
      "cell_type": "code",
      "source": [
        "#selecionando apenas algumas colunas\n",
        "data_outliers=data.select([c for c in data.columns if c in ['Age','Annual Income (k$)','Spending Score (1-100)']])\n",
        "data_outliers.show()"
      ],
      "metadata": {
        "id": "xO9MG4TC1vkQ",
        "colab": {
          "base_uri": "https://localhost:8080/"
        },
        "outputId": "92373365-57b4-44e8-d4ad-603df7c5a261"
      },
      "outputs": [
        {
          "output_type": "stream",
          "name": "stdout",
          "text": [
            "+---+------------------+----------------------+\n",
            "|Age|Annual Income (k$)|Spending Score (1-100)|\n",
            "+---+------------------+----------------------+\n",
            "| 19|                15|                    39|\n",
            "| 21|                15|                    81|\n",
            "| 20|                16|                     6|\n",
            "| 23|                16|                    77|\n",
            "| 31|                17|                    40|\n",
            "| 22|                17|                    76|\n",
            "| 35|                18|                     6|\n",
            "| 23|                18|                    94|\n",
            "| 64|                19|                     3|\n",
            "| 30|                19|                    72|\n",
            "| 67|                19|                    14|\n",
            "| 35|                19|                    99|\n",
            "| 58|                20|                    15|\n",
            "| 24|                20|                    77|\n",
            "| 37|                20|                    13|\n",
            "| 22|                20|                    79|\n",
            "| 35|                21|                    35|\n",
            "| 20|                21|                    66|\n",
            "| 52|                23|                    29|\n",
            "| 35|                23|                    98|\n",
            "+---+------------------+----------------------+\n",
            "only showing top 20 rows\n",
            "\n"
          ]
        }
      ],
      "execution_count": null
    },
    {
      "cell_type": "code",
      "source": [
        "#boxplot\n",
        "display(data_outliers)"
      ],
      "metadata": {
        "id": "V8wZNQhe1vkQ",
        "colab": {
          "base_uri": "https://localhost:8080/",
          "height": 35
        },
        "outputId": "8c8adf69-4361-43ab-9157-f53b0f0ef4b8"
      },
      "outputs": [
        {
          "output_type": "display_data",
          "data": {
            "text/plain": [
              "DataFrame[Age: int, Annual Income (k$): int, Spending Score (1-100): int]"
            ]
          },
          "metadata": {}
        }
      ],
      "execution_count": null
    },
    {
      "cell_type": "code",
      "source": [
        "#histograma\n",
        "display(data_outliers)"
      ],
      "metadata": {
        "id": "MBNqnFeq1vkQ",
        "colab": {
          "base_uri": "https://localhost:8080/",
          "height": 35
        },
        "outputId": "11d65b26-ac77-449a-d492-45122043258d"
      },
      "outputs": [
        {
          "output_type": "display_data",
          "data": {
            "text/plain": [
              "DataFrame[Age: int, Annual Income (k$): int, Spending Score (1-100): int]"
            ]
          },
          "metadata": {}
        }
      ],
      "execution_count": null
    },
    {
      "cell_type": "markdown",
      "source": [
        "Conhecendo o dataset"
      ],
      "metadata": {
        "id": "yxvsHI_d1vkR"
      }
    },
    {
      "cell_type": "code",
      "source": [
        "display(data.select([\"Genre\",\"Annual Income (k$)\"]))"
      ],
      "metadata": {
        "id": "xW7nocps1vkR",
        "colab": {
          "base_uri": "https://localhost:8080/",
          "height": 35
        },
        "outputId": "d7240617-aa4d-4e31-aa0b-907c6e624607"
      },
      "outputs": [
        {
          "output_type": "display_data",
          "data": {
            "text/plain": [
              "DataFrame[Genre: string, Annual Income (k$): int]"
            ]
          },
          "metadata": {}
        }
      ],
      "execution_count": null
    },
    {
      "cell_type": "code",
      "source": [
        "#distribuição dos consumidores pela idade\n",
        "display(data.select([\"Age\"]))"
      ],
      "metadata": {
        "id": "poRSW1Qr1vkR",
        "colab": {
          "base_uri": "https://localhost:8080/",
          "height": 35
        },
        "outputId": "55b7851e-6b0b-44f4-d2c6-79dd36d34e74"
      },
      "outputs": [
        {
          "output_type": "display_data",
          "data": {
            "text/plain": [
              "DataFrame[Age: int]"
            ]
          },
          "metadata": {}
        }
      ],
      "execution_count": null
    },
    {
      "cell_type": "code",
      "source": [
        "#encontrando a distribuição da idade x sexo\n",
        "display(data.select([\"Age\",\"Genre\"]))"
      ],
      "metadata": {
        "id": "2cONbfTO1vkS",
        "colab": {
          "base_uri": "https://localhost:8080/",
          "height": 35
        },
        "outputId": "7382e85d-e5c7-4974-e210-a5f2a774df01"
      },
      "outputs": [
        {
          "output_type": "display_data",
          "data": {
            "text/plain": [
              "DataFrame[Age: int, Genre: string]"
            ]
          },
          "metadata": {}
        }
      ],
      "execution_count": null
    },
    {
      "cell_type": "code",
      "source": [
        "#encontrando a distribuição da idade x sexo\n",
        "display(data.select([\"Age\",\"Genre\"]))"
      ],
      "metadata": {
        "id": "-z0V6fDG1vkS",
        "colab": {
          "base_uri": "https://localhost:8080/",
          "height": 35
        },
        "outputId": "473c01c2-b95b-4f5e-d5df-9f69fe709d59"
      },
      "outputs": [
        {
          "output_type": "display_data",
          "data": {
            "text/plain": [
              "DataFrame[Age: int, Genre: string]"
            ]
          },
          "metadata": {}
        }
      ],
      "execution_count": null
    },
    {
      "cell_type": "markdown",
      "source": [
        "A variável \"Spending Score (1-100)\" ou pontuação de consumo, corresponde à nota atribuída pelo shopping aos consumidores. Quanto mais próxima de 100 indica que o consumidor é mais \"lucrativo\" para o shopping."
      ],
      "metadata": {
        "id": "DlniWCbs1vkS"
      }
    },
    {
      "cell_type": "code",
      "source": [
        "#encontrando as notas atribuidas por gênero\n",
        "display(data.select([\"Spending Score (1-100)\",\"Genre\"]))"
      ],
      "metadata": {
        "id": "sP6POmmJ1vkT",
        "colab": {
          "base_uri": "https://localhost:8080/",
          "height": 35
        },
        "outputId": "1a04770e-3c55-4dd4-d74d-0ff7a24ef9d8"
      },
      "outputs": [
        {
          "output_type": "display_data",
          "data": {
            "text/plain": [
              "DataFrame[Spending Score (1-100): int, Genre: string]"
            ]
          },
          "metadata": {}
        }
      ],
      "execution_count": null
    },
    {
      "cell_type": "markdown",
      "source": [
        "Analisando a correlação entre Idade e Nota Atribuída"
      ],
      "metadata": {
        "id": "m6SYY2-u1vkT"
      }
    },
    {
      "cell_type": "code",
      "source": [
        "#Analisando as correlações\n",
        "from pyspark.mllib.stat import Statistics"
      ],
      "metadata": {
        "id": "TavtPSvv1vkT"
      },
      "outputs": [],
      "execution_count": null
    },
    {
      "cell_type": "code",
      "source": [
        "rdd_1=data.select(\"Spending Score (1-100)\").rdd.flatMap(lambda x:x)  #utilizada para transforma das colunas do dataframe em colunas para serem empregadas na análise de correlaçoes\n",
        "rdd_2=data.select(\"Age\").rdd.flatMap(lambda x:x)"
      ],
      "metadata": {
        "id": "5yaPlZIO1vkT"
      },
      "outputs": [],
      "execution_count": null
    },
    {
      "cell_type": "code",
      "source": [
        "Statistics.corr(rdd_1,rdd_2,method=\"pearson\")  #definindo a coeficiente de correlação de pearson"
      ],
      "metadata": {
        "id": "GoF677P51vkU",
        "colab": {
          "base_uri": "https://localhost:8080/"
        },
        "outputId": "fda57ecb-9e3f-47d7-9e1e-6cfc578c9b71"
      },
      "outputs": [
        {
          "output_type": "execute_result",
          "data": {
            "text/plain": [
              "-0.32722684603909014"
            ]
          },
          "metadata": {},
          "execution_count": 40
        }
      ],
      "execution_count": null
    },
    {
      "cell_type": "code",
      "source": [
        "data.stat.corr(\"Age\",\"Annual Income (k$)\",method=\"pearson\")"
      ],
      "metadata": {
        "id": "Jsta6Om81vkU",
        "colab": {
          "base_uri": "https://localhost:8080/"
        },
        "outputId": "82f97971-1088-4370-f810-91b39f81a2f1"
      },
      "outputs": [
        {
          "output_type": "execute_result",
          "data": {
            "text/plain": [
              "-0.01239804273606026"
            ]
          },
          "metadata": {},
          "execution_count": 41
        }
      ],
      "execution_count": null
    },
    {
      "cell_type": "markdown",
      "source": [
        "Analisando a correlação por gênero"
      ],
      "metadata": {
        "id": "wguh7uK71vkU"
      }
    },
    {
      "cell_type": "code",
      "source": [
        "#Selecionando os homens\n",
        "homens=data[data.Genre=='Male']\n",
        "homens.show()"
      ],
      "metadata": {
        "id": "r70Hn1mc1vkV",
        "colab": {
          "base_uri": "https://localhost:8080/"
        },
        "outputId": "ffffcf1f-7bb0-4d86-8b93-a3f69831ced8"
      },
      "outputs": [
        {
          "output_type": "stream",
          "name": "stdout",
          "text": [
            "+----------+-----+---+------------------+----------------------+\n",
            "|CustomerID|Genre|Age|Annual Income (k$)|Spending Score (1-100)|\n",
            "+----------+-----+---+------------------+----------------------+\n",
            "|         1| Male| 19|                15|                    39|\n",
            "|         2| Male| 21|                15|                    81|\n",
            "|         9| Male| 64|                19|                     3|\n",
            "|        11| Male| 67|                19|                    14|\n",
            "|        15| Male| 37|                20|                    13|\n",
            "|        16| Male| 22|                20|                    79|\n",
            "|        18| Male| 20|                21|                    66|\n",
            "|        19| Male| 52|                23|                    29|\n",
            "|        21| Male| 35|                24|                    35|\n",
            "|        22| Male| 25|                24|                    73|\n",
            "|        24| Male| 31|                25|                    73|\n",
            "|        26| Male| 29|                28|                    82|\n",
            "|        28| Male| 35|                28|                    61|\n",
            "|        31| Male| 60|                30|                     4|\n",
            "|        33| Male| 53|                33|                     4|\n",
            "|        34| Male| 18|                33|                    92|\n",
            "|        42| Male| 24|                38|                    92|\n",
            "|        43| Male| 48|                39|                    36|\n",
            "|        52| Male| 33|                42|                    60|\n",
            "|        54| Male| 59|                43|                    60|\n",
            "+----------+-----+---+------------------+----------------------+\n",
            "only showing top 20 rows\n",
            "\n"
          ]
        }
      ],
      "execution_count": null
    },
    {
      "cell_type": "code",
      "source": [
        "#selecionando mulheres\n",
        "mulheres=data[data.Genre=='Female']\n",
        "mulheres.show()"
      ],
      "metadata": {
        "id": "aVlHLne71vkV",
        "colab": {
          "base_uri": "https://localhost:8080/"
        },
        "outputId": "57aa770f-eb45-4c5f-d47b-23b05b145723"
      },
      "outputs": [
        {
          "output_type": "stream",
          "name": "stdout",
          "text": [
            "+----------+------+---+------------------+----------------------+\n",
            "|CustomerID| Genre|Age|Annual Income (k$)|Spending Score (1-100)|\n",
            "+----------+------+---+------------------+----------------------+\n",
            "|         3|Female| 20|                16|                     6|\n",
            "|         4|Female| 23|                16|                    77|\n",
            "|         5|Female| 31|                17|                    40|\n",
            "|         6|Female| 22|                17|                    76|\n",
            "|         7|Female| 35|                18|                     6|\n",
            "|         8|Female| 23|                18|                    94|\n",
            "|        10|Female| 30|                19|                    72|\n",
            "|        12|Female| 35|                19|                    99|\n",
            "|        13|Female| 58|                20|                    15|\n",
            "|        14|Female| 24|                20|                    77|\n",
            "|        17|Female| 35|                21|                    35|\n",
            "|        20|Female| 35|                23|                    98|\n",
            "|        23|Female| 46|                25|                     5|\n",
            "|        25|Female| 54|                28|                    14|\n",
            "|        27|Female| 45|                28|                    32|\n",
            "|        29|Female| 40|                29|                    31|\n",
            "|        30|Female| 23|                29|                    87|\n",
            "|        32|Female| 21|                30|                    73|\n",
            "|        35|Female| 49|                33|                    14|\n",
            "|        36|Female| 21|                33|                    81|\n",
            "+----------+------+---+------------------+----------------------+\n",
            "only showing top 20 rows\n",
            "\n"
          ]
        }
      ],
      "execution_count": null
    },
    {
      "cell_type": "code",
      "source": [
        "#correlação entre Idade e o Salário Anual - Homens\n",
        "homens.stat.corr(\"Age\",\"Spending Score (1-100)\",method=\"pearson\")"
      ],
      "metadata": {
        "id": "mM8ZLFBz1vkV",
        "colab": {
          "base_uri": "https://localhost:8080/"
        },
        "outputId": "989d5afe-11bd-4101-db11-d32554cfc01e"
      },
      "outputs": [
        {
          "output_type": "execute_result",
          "data": {
            "text/plain": [
              "-0.27962764627493125"
            ]
          },
          "metadata": {},
          "execution_count": 44
        }
      ],
      "execution_count": null
    },
    {
      "cell_type": "code",
      "source": [
        "#correlação entre Idade e o Salário Anual - Homens\n",
        "mulheres.stat.corr(\"Age\",\"Spending Score (1-100)\",method=\"pearson\")"
      ],
      "metadata": {
        "id": "qrntc6Qm1vkW",
        "colab": {
          "base_uri": "https://localhost:8080/"
        },
        "outputId": "d62523b9-4153-4cf8-aab9-b6f14ff4db88"
      },
      "outputs": [
        {
          "output_type": "execute_result",
          "data": {
            "text/plain": [
              "-0.3754385837780473"
            ]
          },
          "metadata": {},
          "execution_count": 45
        }
      ],
      "execution_count": null
    },
    {
      "cell_type": "markdown",
      "source": [
        "Aplicando o Kmeans"
      ],
      "metadata": {
        "id": "Aoi0X4yD1vkW"
      }
    },
    {
      "cell_type": "code",
      "source": [
        "from pyspark.ml.evaluation import ClusteringEvaluator  #biblioteca utilizada para a avaliação em cada um dos clusters\n",
        "from pyspark.ml.clustering import KMeans #biblioteca utilizada para a criação do modelo de clusterização utilizando o K-means"
      ],
      "metadata": {
        "id": "daSof3ZP1vkW"
      },
      "outputs": [],
      "execution_count": null
    },
    {
      "cell_type": "code",
      "source": [
        "from pyspark.ml.feature import VectorAssembler  #transformando os dados em vetores de características\n",
        "\n",
        "vecAssembler = VectorAssembler(inputCols=[\"Spending Score (1-100)\",\"Annual Income (k$)\"], outputCol=\"features\") #utilizada para transformar os dados em um vetor (define o objeto)\n",
        "new_df = vecAssembler.transform(data) #Aplico a transformação\n",
        "new_df.show()"
      ],
      "metadata": {
        "id": "WF5XHpb21vkW",
        "colab": {
          "base_uri": "https://localhost:8080/"
        },
        "outputId": "b222cfc6-88d4-49fb-c4fc-4ab888080766"
      },
      "outputs": [
        {
          "output_type": "stream",
          "name": "stdout",
          "text": [
            "+----------+------+---+------------------+----------------------+-----------+\n",
            "|CustomerID| Genre|Age|Annual Income (k$)|Spending Score (1-100)|   features|\n",
            "+----------+------+---+------------------+----------------------+-----------+\n",
            "|         1|  Male| 19|                15|                    39|[39.0,15.0]|\n",
            "|         2|  Male| 21|                15|                    81|[81.0,15.0]|\n",
            "|         3|Female| 20|                16|                     6| [6.0,16.0]|\n",
            "|         4|Female| 23|                16|                    77|[77.0,16.0]|\n",
            "|         5|Female| 31|                17|                    40|[40.0,17.0]|\n",
            "|         6|Female| 22|                17|                    76|[76.0,17.0]|\n",
            "|         7|Female| 35|                18|                     6| [6.0,18.0]|\n",
            "|         8|Female| 23|                18|                    94|[94.0,18.0]|\n",
            "|         9|  Male| 64|                19|                     3| [3.0,19.0]|\n",
            "|        10|Female| 30|                19|                    72|[72.0,19.0]|\n",
            "|        11|  Male| 67|                19|                    14|[14.0,19.0]|\n",
            "|        12|Female| 35|                19|                    99|[99.0,19.0]|\n",
            "|        13|Female| 58|                20|                    15|[15.0,20.0]|\n",
            "|        14|Female| 24|                20|                    77|[77.0,20.0]|\n",
            "|        15|  Male| 37|                20|                    13|[13.0,20.0]|\n",
            "|        16|  Male| 22|                20|                    79|[79.0,20.0]|\n",
            "|        17|Female| 35|                21|                    35|[35.0,21.0]|\n",
            "|        18|  Male| 20|                21|                    66|[66.0,21.0]|\n",
            "|        19|  Male| 52|                23|                    29|[29.0,23.0]|\n",
            "|        20|Female| 35|                23|                    98|[98.0,23.0]|\n",
            "+----------+------+---+------------------+----------------------+-----------+\n",
            "only showing top 20 rows\n",
            "\n"
          ]
        }
      ],
      "execution_count": null
    },
    {
      "cell_type": "code",
      "source": [
        "#aplica o processo de clusterização\n",
        "kmeans = KMeans(k=5, seed=1)  # declara o objeto - 3 clusters\n",
        "model = kmeans.fit(new_df.select('features')) #aplica o treinamento"
      ],
      "metadata": {
        "id": "_8lo0-R21vkX"
      },
      "outputs": [],
      "execution_count": null
    },
    {
      "cell_type": "code",
      "source": [
        "#cria o dataset com a indicação sobre qual cluster cada conjunto de dados foi adicionado\n",
        "df_final = model.transform(new_df)\n",
        "df_final.show()"
      ],
      "metadata": {
        "id": "3_8yAR7N1vkX",
        "colab": {
          "base_uri": "https://localhost:8080/"
        },
        "outputId": "2dd4dc50-e35f-42bd-f4c7-a9478a2f2b22"
      },
      "outputs": [
        {
          "output_type": "stream",
          "name": "stdout",
          "text": [
            "+----------+------+---+------------------+----------------------+-----------+----------+\n",
            "|CustomerID| Genre|Age|Annual Income (k$)|Spending Score (1-100)|   features|prediction|\n",
            "+----------+------+---+------------------+----------------------+-----------+----------+\n",
            "|         1|  Male| 19|                15|                    39|[39.0,15.0]|         4|\n",
            "|         2|  Male| 21|                15|                    81|[81.0,15.0]|         2|\n",
            "|         3|Female| 20|                16|                     6| [6.0,16.0]|         4|\n",
            "|         4|Female| 23|                16|                    77|[77.0,16.0]|         2|\n",
            "|         5|Female| 31|                17|                    40|[40.0,17.0]|         4|\n",
            "|         6|Female| 22|                17|                    76|[76.0,17.0]|         2|\n",
            "|         7|Female| 35|                18|                     6| [6.0,18.0]|         4|\n",
            "|         8|Female| 23|                18|                    94|[94.0,18.0]|         2|\n",
            "|         9|  Male| 64|                19|                     3| [3.0,19.0]|         4|\n",
            "|        10|Female| 30|                19|                    72|[72.0,19.0]|         2|\n",
            "|        11|  Male| 67|                19|                    14|[14.0,19.0]|         4|\n",
            "|        12|Female| 35|                19|                    99|[99.0,19.0]|         2|\n",
            "|        13|Female| 58|                20|                    15|[15.0,20.0]|         4|\n",
            "|        14|Female| 24|                20|                    77|[77.0,20.0]|         2|\n",
            "|        15|  Male| 37|                20|                    13|[13.0,20.0]|         4|\n",
            "|        16|  Male| 22|                20|                    79|[79.0,20.0]|         2|\n",
            "|        17|Female| 35|                21|                    35|[35.0,21.0]|         4|\n",
            "|        18|  Male| 20|                21|                    66|[66.0,21.0]|         2|\n",
            "|        19|  Male| 52|                23|                    29|[29.0,23.0]|         4|\n",
            "|        20|Female| 35|                23|                    98|[98.0,23.0]|         2|\n",
            "+----------+------+---+------------------+----------------------+-----------+----------+\n",
            "only showing top 20 rows\n",
            "\n"
          ]
        }
      ],
      "execution_count": null
    },
    {
      "cell_type": "code",
      "source": [
        "data.describe().show()"
      ],
      "metadata": {
        "id": "x9aPyHD11vkj",
        "colab": {
          "base_uri": "https://localhost:8080/"
        },
        "outputId": "a6f50c43-19b3-4c42-93f0-a78c803fb592"
      },
      "outputs": [
        {
          "output_type": "stream",
          "name": "stdout",
          "text": [
            "+-------+------------------+------+-----------------+------------------+----------------------+\n",
            "|summary|        CustomerID| Genre|              Age|Annual Income (k$)|Spending Score (1-100)|\n",
            "+-------+------------------+------+-----------------+------------------+----------------------+\n",
            "|  count|               200|   200|              200|               200|                   200|\n",
            "|   mean|             100.5|  NULL|            38.85|             60.56|                  50.2|\n",
            "| stddev|57.879184513951124|  NULL|13.96900733155888| 26.26472116527124|    25.823521668370173|\n",
            "|    min|                 1|Female|               18|                15|                     1|\n",
            "|    max|               200|  Male|               70|               137|                    99|\n",
            "+-------+------------------+------+-----------------+------------------+----------------------+\n",
            "\n"
          ]
        }
      ],
      "execution_count": null
    },
    {
      "cell_type": "code",
      "source": [
        "df_final.groupby('prediction').count().show()"
      ],
      "metadata": {
        "id": "EotkJLl01vkk",
        "colab": {
          "base_uri": "https://localhost:8080/"
        },
        "outputId": "50d0550a-6898-4cb8-c77c-f32d03a98fdd"
      },
      "outputs": [
        {
          "output_type": "stream",
          "name": "stdout",
          "text": [
            "+----------+-----+\n",
            "|prediction|count|\n",
            "+----------+-----+\n",
            "|         1|   39|\n",
            "|         3|   81|\n",
            "|         4|   23|\n",
            "|         2|   22|\n",
            "|         0|   35|\n",
            "+----------+-----+\n",
            "\n"
          ]
        }
      ],
      "execution_count": null
    },
    {
      "cell_type": "code",
      "source": [
        "#transformando os dados utilizando o pandas\n",
        "data_pandas = df_final.toPandas().set_index('CustomerID')\n",
        "data_pandas.head()"
      ],
      "metadata": {
        "id": "JD1W5h5c1vkk",
        "colab": {
          "base_uri": "https://localhost:8080/",
          "height": 237
        },
        "outputId": "343cd93b-2557-44a2-8396-0ea4892b4c3e"
      },
      "outputs": [
        {
          "output_type": "execute_result",
          "data": {
            "text/plain": [
              "             Genre  Age  Annual Income (k$)  Spending Score (1-100)  \\\n",
              "CustomerID                                                            \n",
              "1             Male   19                  15                      39   \n",
              "2             Male   21                  15                      81   \n",
              "3           Female   20                  16                       6   \n",
              "4           Female   23                  16                      77   \n",
              "5           Female   31                  17                      40   \n",
              "\n",
              "                features  prediction  \n",
              "CustomerID                            \n",
              "1           [39.0, 15.0]           4  \n",
              "2           [81.0, 15.0]           2  \n",
              "3            [6.0, 16.0]           4  \n",
              "4           [77.0, 16.0]           2  \n",
              "5           [40.0, 17.0]           4  "
            ],
            "text/html": [
              "\n",
              "  <div id=\"df-e0807a70-6ee5-461d-b3e5-635a2bafc433\" class=\"colab-df-container\">\n",
              "    <div>\n",
              "<style scoped>\n",
              "    .dataframe tbody tr th:only-of-type {\n",
              "        vertical-align: middle;\n",
              "    }\n",
              "\n",
              "    .dataframe tbody tr th {\n",
              "        vertical-align: top;\n",
              "    }\n",
              "\n",
              "    .dataframe thead th {\n",
              "        text-align: right;\n",
              "    }\n",
              "</style>\n",
              "<table border=\"1\" class=\"dataframe\">\n",
              "  <thead>\n",
              "    <tr style=\"text-align: right;\">\n",
              "      <th></th>\n",
              "      <th>Genre</th>\n",
              "      <th>Age</th>\n",
              "      <th>Annual Income (k$)</th>\n",
              "      <th>Spending Score (1-100)</th>\n",
              "      <th>features</th>\n",
              "      <th>prediction</th>\n",
              "    </tr>\n",
              "    <tr>\n",
              "      <th>CustomerID</th>\n",
              "      <th></th>\n",
              "      <th></th>\n",
              "      <th></th>\n",
              "      <th></th>\n",
              "      <th></th>\n",
              "      <th></th>\n",
              "    </tr>\n",
              "  </thead>\n",
              "  <tbody>\n",
              "    <tr>\n",
              "      <th>1</th>\n",
              "      <td>Male</td>\n",
              "      <td>19</td>\n",
              "      <td>15</td>\n",
              "      <td>39</td>\n",
              "      <td>[39.0, 15.0]</td>\n",
              "      <td>4</td>\n",
              "    </tr>\n",
              "    <tr>\n",
              "      <th>2</th>\n",
              "      <td>Male</td>\n",
              "      <td>21</td>\n",
              "      <td>15</td>\n",
              "      <td>81</td>\n",
              "      <td>[81.0, 15.0]</td>\n",
              "      <td>2</td>\n",
              "    </tr>\n",
              "    <tr>\n",
              "      <th>3</th>\n",
              "      <td>Female</td>\n",
              "      <td>20</td>\n",
              "      <td>16</td>\n",
              "      <td>6</td>\n",
              "      <td>[6.0, 16.0]</td>\n",
              "      <td>4</td>\n",
              "    </tr>\n",
              "    <tr>\n",
              "      <th>4</th>\n",
              "      <td>Female</td>\n",
              "      <td>23</td>\n",
              "      <td>16</td>\n",
              "      <td>77</td>\n",
              "      <td>[77.0, 16.0]</td>\n",
              "      <td>2</td>\n",
              "    </tr>\n",
              "    <tr>\n",
              "      <th>5</th>\n",
              "      <td>Female</td>\n",
              "      <td>31</td>\n",
              "      <td>17</td>\n",
              "      <td>40</td>\n",
              "      <td>[40.0, 17.0]</td>\n",
              "      <td>4</td>\n",
              "    </tr>\n",
              "  </tbody>\n",
              "</table>\n",
              "</div>\n",
              "    <div class=\"colab-df-buttons\">\n",
              "\n",
              "  <div class=\"colab-df-container\">\n",
              "    <button class=\"colab-df-convert\" onclick=\"convertToInteractive('df-e0807a70-6ee5-461d-b3e5-635a2bafc433')\"\n",
              "            title=\"Convert this dataframe to an interactive table.\"\n",
              "            style=\"display:none;\">\n",
              "\n",
              "  <svg xmlns=\"http://www.w3.org/2000/svg\" height=\"24px\" viewBox=\"0 -960 960 960\">\n",
              "    <path d=\"M120-120v-720h720v720H120Zm60-500h600v-160H180v160Zm220 220h160v-160H400v160Zm0 220h160v-160H400v160ZM180-400h160v-160H180v160Zm440 0h160v-160H620v160ZM180-180h160v-160H180v160Zm440 0h160v-160H620v160Z\"/>\n",
              "  </svg>\n",
              "    </button>\n",
              "\n",
              "  <style>\n",
              "    .colab-df-container {\n",
              "      display:flex;\n",
              "      gap: 12px;\n",
              "    }\n",
              "\n",
              "    .colab-df-convert {\n",
              "      background-color: #E8F0FE;\n",
              "      border: none;\n",
              "      border-radius: 50%;\n",
              "      cursor: pointer;\n",
              "      display: none;\n",
              "      fill: #1967D2;\n",
              "      height: 32px;\n",
              "      padding: 0 0 0 0;\n",
              "      width: 32px;\n",
              "    }\n",
              "\n",
              "    .colab-df-convert:hover {\n",
              "      background-color: #E2EBFA;\n",
              "      box-shadow: 0px 1px 2px rgba(60, 64, 67, 0.3), 0px 1px 3px 1px rgba(60, 64, 67, 0.15);\n",
              "      fill: #174EA6;\n",
              "    }\n",
              "\n",
              "    .colab-df-buttons div {\n",
              "      margin-bottom: 4px;\n",
              "    }\n",
              "\n",
              "    [theme=dark] .colab-df-convert {\n",
              "      background-color: #3B4455;\n",
              "      fill: #D2E3FC;\n",
              "    }\n",
              "\n",
              "    [theme=dark] .colab-df-convert:hover {\n",
              "      background-color: #434B5C;\n",
              "      box-shadow: 0px 1px 3px 1px rgba(0, 0, 0, 0.15);\n",
              "      filter: drop-shadow(0px 1px 2px rgba(0, 0, 0, 0.3));\n",
              "      fill: #FFFFFF;\n",
              "    }\n",
              "  </style>\n",
              "\n",
              "    <script>\n",
              "      const buttonEl =\n",
              "        document.querySelector('#df-e0807a70-6ee5-461d-b3e5-635a2bafc433 button.colab-df-convert');\n",
              "      buttonEl.style.display =\n",
              "        google.colab.kernel.accessAllowed ? 'block' : 'none';\n",
              "\n",
              "      async function convertToInteractive(key) {\n",
              "        const element = document.querySelector('#df-e0807a70-6ee5-461d-b3e5-635a2bafc433');\n",
              "        const dataTable =\n",
              "          await google.colab.kernel.invokeFunction('convertToInteractive',\n",
              "                                                    [key], {});\n",
              "        if (!dataTable) return;\n",
              "\n",
              "        const docLinkHtml = 'Like what you see? Visit the ' +\n",
              "          '<a target=\"_blank\" href=https://colab.research.google.com/notebooks/data_table.ipynb>data table notebook</a>'\n",
              "          + ' to learn more about interactive tables.';\n",
              "        element.innerHTML = '';\n",
              "        dataTable['output_type'] = 'display_data';\n",
              "        await google.colab.output.renderOutput(dataTable, element);\n",
              "        const docLink = document.createElement('div');\n",
              "        docLink.innerHTML = docLinkHtml;\n",
              "        element.appendChild(docLink);\n",
              "      }\n",
              "    </script>\n",
              "  </div>\n",
              "\n",
              "\n",
              "<div id=\"df-59b6fac2-1987-4f3c-b10e-947f292f6b2f\">\n",
              "  <button class=\"colab-df-quickchart\" onclick=\"quickchart('df-59b6fac2-1987-4f3c-b10e-947f292f6b2f')\"\n",
              "            title=\"Suggest charts\"\n",
              "            style=\"display:none;\">\n",
              "\n",
              "<svg xmlns=\"http://www.w3.org/2000/svg\" height=\"24px\"viewBox=\"0 0 24 24\"\n",
              "     width=\"24px\">\n",
              "    <g>\n",
              "        <path d=\"M19 3H5c-1.1 0-2 .9-2 2v14c0 1.1.9 2 2 2h14c1.1 0 2-.9 2-2V5c0-1.1-.9-2-2-2zM9 17H7v-7h2v7zm4 0h-2V7h2v10zm4 0h-2v-4h2v4z\"/>\n",
              "    </g>\n",
              "</svg>\n",
              "  </button>\n",
              "\n",
              "<style>\n",
              "  .colab-df-quickchart {\n",
              "      --bg-color: #E8F0FE;\n",
              "      --fill-color: #1967D2;\n",
              "      --hover-bg-color: #E2EBFA;\n",
              "      --hover-fill-color: #174EA6;\n",
              "      --disabled-fill-color: #AAA;\n",
              "      --disabled-bg-color: #DDD;\n",
              "  }\n",
              "\n",
              "  [theme=dark] .colab-df-quickchart {\n",
              "      --bg-color: #3B4455;\n",
              "      --fill-color: #D2E3FC;\n",
              "      --hover-bg-color: #434B5C;\n",
              "      --hover-fill-color: #FFFFFF;\n",
              "      --disabled-bg-color: #3B4455;\n",
              "      --disabled-fill-color: #666;\n",
              "  }\n",
              "\n",
              "  .colab-df-quickchart {\n",
              "    background-color: var(--bg-color);\n",
              "    border: none;\n",
              "    border-radius: 50%;\n",
              "    cursor: pointer;\n",
              "    display: none;\n",
              "    fill: var(--fill-color);\n",
              "    height: 32px;\n",
              "    padding: 0;\n",
              "    width: 32px;\n",
              "  }\n",
              "\n",
              "  .colab-df-quickchart:hover {\n",
              "    background-color: var(--hover-bg-color);\n",
              "    box-shadow: 0 1px 2px rgba(60, 64, 67, 0.3), 0 1px 3px 1px rgba(60, 64, 67, 0.15);\n",
              "    fill: var(--button-hover-fill-color);\n",
              "  }\n",
              "\n",
              "  .colab-df-quickchart-complete:disabled,\n",
              "  .colab-df-quickchart-complete:disabled:hover {\n",
              "    background-color: var(--disabled-bg-color);\n",
              "    fill: var(--disabled-fill-color);\n",
              "    box-shadow: none;\n",
              "  }\n",
              "\n",
              "  .colab-df-spinner {\n",
              "    border: 2px solid var(--fill-color);\n",
              "    border-color: transparent;\n",
              "    border-bottom-color: var(--fill-color);\n",
              "    animation:\n",
              "      spin 1s steps(1) infinite;\n",
              "  }\n",
              "\n",
              "  @keyframes spin {\n",
              "    0% {\n",
              "      border-color: transparent;\n",
              "      border-bottom-color: var(--fill-color);\n",
              "      border-left-color: var(--fill-color);\n",
              "    }\n",
              "    20% {\n",
              "      border-color: transparent;\n",
              "      border-left-color: var(--fill-color);\n",
              "      border-top-color: var(--fill-color);\n",
              "    }\n",
              "    30% {\n",
              "      border-color: transparent;\n",
              "      border-left-color: var(--fill-color);\n",
              "      border-top-color: var(--fill-color);\n",
              "      border-right-color: var(--fill-color);\n",
              "    }\n",
              "    40% {\n",
              "      border-color: transparent;\n",
              "      border-right-color: var(--fill-color);\n",
              "      border-top-color: var(--fill-color);\n",
              "    }\n",
              "    60% {\n",
              "      border-color: transparent;\n",
              "      border-right-color: var(--fill-color);\n",
              "    }\n",
              "    80% {\n",
              "      border-color: transparent;\n",
              "      border-right-color: var(--fill-color);\n",
              "      border-bottom-color: var(--fill-color);\n",
              "    }\n",
              "    90% {\n",
              "      border-color: transparent;\n",
              "      border-bottom-color: var(--fill-color);\n",
              "    }\n",
              "  }\n",
              "</style>\n",
              "\n",
              "  <script>\n",
              "    async function quickchart(key) {\n",
              "      const quickchartButtonEl =\n",
              "        document.querySelector('#' + key + ' button');\n",
              "      quickchartButtonEl.disabled = true;  // To prevent multiple clicks.\n",
              "      quickchartButtonEl.classList.add('colab-df-spinner');\n",
              "      try {\n",
              "        const charts = await google.colab.kernel.invokeFunction(\n",
              "            'suggestCharts', [key], {});\n",
              "      } catch (error) {\n",
              "        console.error('Error during call to suggestCharts:', error);\n",
              "      }\n",
              "      quickchartButtonEl.classList.remove('colab-df-spinner');\n",
              "      quickchartButtonEl.classList.add('colab-df-quickchart-complete');\n",
              "    }\n",
              "    (() => {\n",
              "      let quickchartButtonEl =\n",
              "        document.querySelector('#df-59b6fac2-1987-4f3c-b10e-947f292f6b2f button');\n",
              "      quickchartButtonEl.style.display =\n",
              "        google.colab.kernel.accessAllowed ? 'block' : 'none';\n",
              "    })();\n",
              "  </script>\n",
              "</div>\n",
              "\n",
              "    </div>\n",
              "  </div>\n"
            ],
            "application/vnd.google.colaboratory.intrinsic+json": {
              "type": "dataframe",
              "variable_name": "data_pandas",
              "summary": "{\n  \"name\": \"data_pandas\",\n  \"rows\": 200,\n  \"fields\": [\n    {\n      \"column\": \"CustomerID\",\n      \"properties\": {\n        \"dtype\": \"int32\",\n        \"num_unique_values\": 200,\n        \"samples\": [\n          96,\n          16,\n          31\n        ],\n        \"semantic_type\": \"\",\n        \"description\": \"\"\n      }\n    },\n    {\n      \"column\": \"Genre\",\n      \"properties\": {\n        \"dtype\": \"category\",\n        \"num_unique_values\": 2,\n        \"samples\": [\n          \"Female\",\n          \"Male\"\n        ],\n        \"semantic_type\": \"\",\n        \"description\": \"\"\n      }\n    },\n    {\n      \"column\": \"Age\",\n      \"properties\": {\n        \"dtype\": \"int32\",\n        \"num_unique_values\": 51,\n        \"samples\": [\n          55,\n          26\n        ],\n        \"semantic_type\": \"\",\n        \"description\": \"\"\n      }\n    },\n    {\n      \"column\": \"Annual Income (k$)\",\n      \"properties\": {\n        \"dtype\": \"int32\",\n        \"num_unique_values\": 64,\n        \"samples\": [\n          87,\n          101\n        ],\n        \"semantic_type\": \"\",\n        \"description\": \"\"\n      }\n    },\n    {\n      \"column\": \"Spending Score (1-100)\",\n      \"properties\": {\n        \"dtype\": \"int32\",\n        \"num_unique_values\": 84,\n        \"samples\": [\n          83,\n          39\n        ],\n        \"semantic_type\": \"\",\n        \"description\": \"\"\n      }\n    },\n    {\n      \"column\": \"features\",\n      \"properties\": {\n        \"dtype\": \"string\",\n        \"num_unique_values\": 196,\n        \"samples\": [\n          \"[40.0,76.0]\",\n          \"[50.0,65.0]\"\n        ],\n        \"semantic_type\": \"\",\n        \"description\": \"\"\n      }\n    },\n    {\n      \"column\": \"prediction\",\n      \"properties\": {\n        \"dtype\": \"int32\",\n        \"num_unique_values\": 5,\n        \"samples\": [\n          2,\n          0\n        ],\n        \"semantic_type\": \"\",\n        \"description\": \"\"\n      }\n    }\n  ]\n}"
            }
          },
          "metadata": {},
          "execution_count": 52
        }
      ],
      "execution_count": null
    },
    {
      "cell_type": "code",
      "source": [
        "import matplotlib.pyplot as plt\n",
        "\n",
        "plt.figure(figsize=(12,10))\n",
        "plt.scatter(data_pandas['Annual Income (k$)'], data_pandas['Spending Score (1-100)'], c=data_pandas.prediction)\n",
        "plt.xlabel('Annual Income (k$)')\n",
        "plt.ylabel('Spending Score (1-100)')\n",
        "plt.show()"
      ],
      "metadata": {
        "id": "awmou9Go1vkk",
        "colab": {
          "base_uri": "https://localhost:8080/",
          "height": 850
        },
        "outputId": "55ad98d1-c7bb-492e-ed7a-4a0a75a82810"
      },
      "outputs": [
        {
          "output_type": "display_data",
          "data": {
            "text/plain": [
              "<Figure size 1200x1000 with 1 Axes>"
            ],
            "image/png": "[encoded data removed]"
          },
          "metadata": {}
        }
      ],
      "execution_count": null
    }
  ],
  "metadata": {
    "name": "desafio_bootcamp_tpd",
    "notebookId": 3192514136504053,
    "colab": {
      "provenance": [],
      "include_colab_link": true
    },
    "language_info": {
      "name": "python"
    },
    "kernelspec": {
      "name": "python3",
      "display_name": "Python 3"
    }
  },
  "nbformat": 4,
  "nbformat_minor": 0
}